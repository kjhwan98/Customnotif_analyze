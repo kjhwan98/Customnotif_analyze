{
 "cells": [
  {
   "cell_type": "markdown",
   "id": "2d84add0-56c6-4e3b-9193-f233df1825ca",
   "metadata": {},
   "source": [
    "## 데이터가 커서 유저별로 전처리 실행 후 merge\n",
    "### 개인 데이터여서 해당 데이터 파일은 올리지 않음"
   ]
  },
  {
   "cell_type": "code",
   "execution_count": null,
   "id": "444ccfa3-3973-4e75-955a-049d0a705ebf",
   "metadata": {},
   "outputs": [],
   "source": [
    "df= pd.read_csv(\"u1.csv\")"
   ]
  },
  {
   "cell_type": "code",
   "execution_count": null,
   "id": "19fd5637-fd0f-4976-9f77-9991775fa9a2",
   "metadata": {},
   "outputs": [],
   "source": [
    "df = df[df['notification_id'].notna()]\n",
    "df = df.dropna(axis=1, how='all')\n",
    "df"
   ]
  },
  {
   "cell_type": "code",
   "execution_count": null,
   "id": "d0aa4a09-9612-4a7b-8a5e-44c082394815",
   "metadata": {},
   "outputs": [],
   "source": [
    "df = df[df['notification_id'].notna()]\n",
    "df = df.dropna(axis=1, how='all')\n",
    "df"
   ]
  },
  {
   "cell_type": "code",
   "execution_count": null,
   "id": "f0e5a0b5-5b8e-4bb4-b4e6-31bf9c7f5f7f",
   "metadata": {},
   "outputs": [],
   "source": [
    "condition = df['post_time'].notna() & (df['text'] == 'No Text') & (df['title'] == 'No Title')\n",
    "df = df[~condition]\n",
    "df"
   ]
  },
  {
   "cell_type": "code",
   "execution_count": null,
   "id": "c08d879a-c4c5-42b2-ae38-382f3ea1ef00",
   "metadata": {},
   "outputs": [],
   "source": [
    "no_text_title = (df['text'] == 'No Text') & (df['title'] == 'No Title')\n",
    "\n",
    "df['removal_reason2'] = pd.NA\n",
    "\n",
    "def propagate_removal_reason(row):\n",
    "    if pd.notna(row['removal_time']) and pd.notna(row['package_name']):\n",
    "        condition = (df['removal_time'] == row['removal_time']) & \\\n",
    "                    (df['package_name'] == row['package_name']) & \\\n",
    "                    no_text_title\n",
    "        reasons = df.loc[condition, 'removal_reason'].dropna().unique()\n",
    "        if reasons.size > 0:\n",
    "            return reasons[0]\n",
    "    return row['removal_reason2']\n",
    "\n",
    "df['removal_reason2'] = df.apply(propagate_removal_reason, axis=1)\n",
    "\n",
    "df[['removal_reason2', 'removal_time', 'package_name']].head()"
   ]
  },
  {
   "cell_type": "code",
   "execution_count": null,
   "id": "2c1becad-c753-4f68-8c33-3494238a8ec1",
   "metadata": {},
   "outputs": [],
   "source": [
    "# 제거된 알림 중에 text, title 둘다 없는 데이터 제거\n",
    "remove_condition = no_text_title & df['removal_reason'].notna()\n",
    "df = df[~remove_condition]\n",
    "# 값이 other이라면 제거 \n",
    "df.loc[df['removal_reason2'] == 'Other', 'removal_reason2'] = pd.NA\n",
    "# removal_reason 값이 Group Summary Canceled라면, removal_reason2 값을 대체\n",
    "df.loc[df['removal_reason'] == 'Group Summary Canceled', 'removal_reason'] = df['removal_reason2']\n",
    "# removal_reason과 removal_reason2의 값이 같다면 removal_reason2 값 제거\n",
    "df.loc[df['removal_reason'] == df['removal_reason2'], 'removal_reason2'] = pd.NA\n",
    "df"
   ]
  },
  {
   "cell_type": "code",
   "execution_count": null,
   "id": "5271d45e-bbe0-473b-a81b-c70955d9a3cb",
   "metadata": {},
   "outputs": [],
   "source": [
    "filtered_data = df[df['removal_reason2'].notnull()]\n",
    "filtered_data.info()"
   ]
  },
  {
   "cell_type": "code",
   "execution_count": null,
   "id": "b67ec332-cd65-4e2b-a0a0-b71f04b95f78",
   "metadata": {},
   "outputs": [],
   "source": [
    "df = df.drop(columns=['removal_reason2'])"
   ]
  },
  {
   "cell_type": "code",
   "execution_count": null,
   "id": "51c6960b-ce4b-4f19-a3e5-2e6559b4c107",
   "metadata": {},
   "outputs": [],
   "source": [
    "# 1. timestamp, post_time 및 removal_time 열을 datetime 형식으로 변환\n",
    "df['timestamp'] = pd.to_datetime(df['timestamp'], errors='coerce')\n",
    "df['post_time'] = pd.to_datetime(df['post_time'], errors='coerce')\n",
    "df['removal_time'] = pd.to_datetime(df['removal_time'], errors='coerce')\n",
    "\n",
    "# 2. timestamp 열을 기준으로 데이터프레임을 시간순으로 정렬\n",
    "df = df.sort_values(by='timestamp').reset_index(drop=True)\n",
    "# 설정 알림 제외\n",
    "df =  df[~((df['notification_id'] == 1.0) & (df['package_name'] == 'com.example.uxchannel_proto'))]\n",
    "df =  df[~((df['notification_id'] == 2.0) & (df['package_name'] == 'com.example.uxchannel_proto'))]"
   ]
  },
  {
   "cell_type": "code",
   "execution_count": null,
   "id": "44b9cdf1-c834-464c-a1b8-b7c1c7b9b664",
   "metadata": {},
   "outputs": [],
   "source": [
    "df = df[(df['removal_time'].isna()) | (~df['removal_reason'].isna())]\n",
    "df"
   ]
  },
  {
   "cell_type": "code",
   "execution_count": null,
   "id": "f129fe90-5031-484a-895f-7a7434a4f8c5",
   "metadata": {},
   "outputs": [],
   "source": [
    "# 3. 모든 행을 포함하도록 df_with_removal을 생성합니다.\n",
    "df_with_removal = df.copy()\n",
    "\n",
    "# 4. removal_time이 있는 행들에 대해 처리합니다.\n",
    "results = []\n",
    "for index, row in df_with_removal[df_with_removal['removal_time'].notnull()].iterrows():\n",
    "    # 동일한 deviceId, notification_id, package_name, text, title을 가진 행들을 찾습니다.\n",
    "    condition = (\n",
    "        (df_with_removal['deviceId'] == row['deviceId']) &\n",
    "        (df_with_removal['notification_id'] == row['notification_id']) &\n",
    "        (df_with_removal['package_name'] == row['package_name']) &\n",
    "        (df_with_removal['text'] == row['text']) &\n",
    "        (df_with_removal['title'] == row['title']) &\n",
    "        (df_with_removal['post_time'] < row['removal_time'])\n",
    "    )\n",
    "    \n",
    "    # 조건을 만족하는 가장 최신의 post_time을 찾습니다.\n",
    "    latest_post_row = df_with_removal[condition].sort_values(by='post_time').tail(1)\n",
    "    \n",
    "    # 결과 리스트에 추가합니다.\n",
    "    if not latest_post_row.empty:\n",
    "        results.append(latest_post_row)\n",
    "    \n",
    "    # 현재 row(즉, removal_time이 있는 row)도 결과 리스트에 추가합니다.\n",
    "    results.append(df_with_removal.loc[[index]])\n",
    "\n",
    "# 5. 결과 리스트를 데이터프레임으로 병합합니다.\n",
    "df_final = pd.concat(results).drop_duplicates().reset_index(drop=True)"
   ]
  },
  {
   "cell_type": "code",
   "execution_count": null,
   "id": "28cb00f2-c4cb-4e3b-94f2-0c52e996ece1",
   "metadata": {},
   "outputs": [],
   "source": [
    "# 필요없는 컬럼 제거 및 시간 변환\n",
    "df_final['post_time'] = pd.to_datetime(df_final['post_time'], errors='coerce')\n",
    "df_final['removal_time'] = pd.to_datetime(df_final['removal_time'], errors='coerce')\n",
    "# post_time과 removal_time을 각각 가지고 있는 데이터프레임 생성\n",
    "posts = df_final.dropna(subset=['post_time']).drop(columns=['removal_time', 'removal_reason'])\n",
    "removals = df_final.dropna(subset=['removal_time']).drop(columns=['post_time'])"
   ]
  },
  {
   "cell_type": "code",
   "execution_count": null,
   "id": "baac22e6-c97b-4624-8501-32b42c78e28d",
   "metadata": {},
   "outputs": [],
   "source": [
    "# 게시 데이터와 제거 데이터를 병합하여 알림 매칭\n",
    "merged_data = pd.merge(removals, posts, on=['deviceId', 'notification_id', 'package_name', 'text', 'title'], how='left')\n",
    "\n",
    "# post_time이 removal_time 이전인 데이터만 필터링\n",
    "merged_data = merged_data[merged_data['post_time'] < merged_data['removal_time']]\n",
    "\n",
    "# 각 removal_time에 가장 가까운 최신 post_time 선택\n",
    "merged_data['post_time'] = merged_data.groupby(['deviceId', 'notification_id', 'package_name', 'text', 'title', 'removal_time'])['post_time'].transform(max)"
   ]
  },
  {
   "cell_type": "code",
   "execution_count": null,
   "id": "968db397-6a07-4e41-ad50-0d853cc6ca74",
   "metadata": {},
   "outputs": [],
   "source": [
    "df_noti_final = merged_data.drop_duplicates(subset=['deviceId', 'notification_id', 'package_name', 'text', 'title', 'removal_time'])\n",
    "df_noti_final"
   ]
  },
  {
   "cell_type": "code",
   "execution_count": null,
   "id": "ffeb491e-95d0-4b19-aabb-0f4f3be136a2",
   "metadata": {},
   "outputs": [],
   "source": [
    "df_noti_final['time_difference'] = df_noti_final['removal_time'] - df_noti_final['post_time']\n",
    "df_noti_final['time_difference_hms'] = df_noti_final['time_difference'].apply(lambda x: f\"{int(x.total_seconds() // 3600)}:{int((x.total_seconds() % 3600) // 60)}:{int(x.total_seconds() % 60)}\")\n",
    "df_noti_final"
   ]
  },
  {
   "cell_type": "code",
   "execution_count": null,
   "id": "0a3b23d1-e58f-483b-963d-e7c5fab9b9c1",
   "metadata": {},
   "outputs": [],
   "source": [
    "df_noti_final.to_csv('u1_noti.csv', index=False)"
   ]
  },
  {
   "cell_type": "markdown",
   "id": "a944342e-bef7-4a73-8af3-76d520af89a4",
   "metadata": {},
   "source": [
    "## 파일 병합"
   ]
  },
  {
   "cell_type": "code",
   "execution_count": null,
   "id": "100e96e6-f5cf-495f-afd7-75f8fa0a7527",
   "metadata": {},
   "outputs": [],
   "source": [
    "import pandas as pd\n",
    "import os\n",
    "\n",
    "# Get all CSV files in the current folder ending with '_noti.csv'\n",
    "files = [f for f in os.listdir() if f.endswith(\"_noti.csv\")]\n",
    "\n",
    "# Combine all files into one dataframe\n",
    "combined_df = pd.DataFrame()\n",
    "\n",
    "for file in files:\n",
    "    df = pd.read_csv(file)  # Read each CSV file\n",
    "    combined_df = pd.concat([combined_df, df], ignore_index=True)  # Append data\n",
    "\n",
    "# Save the combined dataframe to a new CSV file\n",
    "output_file = \"combined_noti.csv\"\n",
    "combined_df.to_csv(output_file, index=False)\n",
    "\n",
    "print(f\"Combined file saved as {output_file}\")"
   ]
  },
  {
   "cell_type": "code",
   "execution_count": null,
   "id": "85dfacfe-b88e-4fdf-bead-3105fc364376",
   "metadata": {},
   "outputs": [],
   "source": [
    "df = df_noti_final.drop(columns=['time_difference_hms'])"
   ]
  },
  {
   "cell_type": "code",
   "execution_count": null,
   "id": "508d9211-d30d-4571-b60a-fb2200d84426",
   "metadata": {},
   "outputs": [],
   "source": [
    "df['contains_advertisement'] = df['text'].str.contains('광고', case=False, na=False) | \\\n",
    "                                 df['title'].str.contains('광고', case=False, na=False)"
   ]
  },
  {
   "cell_type": "code",
   "execution_count": null,
   "id": "ab28ba7f-4adb-44ec-8717-f27338e21d8d",
   "metadata": {},
   "outputs": [],
   "source": [
    "df.loc[df['removal_reason'] == 'Notification Swiped', 'removal_reason'] = '제거'\n",
    "df.loc[df['removal_reason'] == 'All Notifications Cleared', 'removal_reason'] = '제거'\n",
    "df.loc[df['removal_reason'] == 'Notification Clicked', 'removal_reason'] = '클릭'\n",
    "df.loc[df['removal_reason'] == 'App Specific Cancel', 'removal_reason'] = '기타'\n",
    "df.loc[df['removal_reason'] == 'Channel Removed', 'removal_reason'] = '기타'\n",
    "df.loc[df['removal_reason'] == 'Other', 'removal_reason'] = '기타'\n",
    "df.loc[df['removal_reason'] == 'Timeout', 'removal_reason'] = '기타'\n",
    "df.loc[df['removal_reason'] == 'Package Changed', 'removal_reason'] = '기타'\n",
    "df.loc[df['removal_reason'] == 'App Cancel All Notifications', 'removal_reason'] = '기타'\n",
    "df.loc[df['removal_reason'] == 'Package Banned', 'removal_reason'] = '기타'\n",
    "df.loc[df['removal_reason'] == 'Lockdown', 'removal_reason'] = '기타'\n",
    "df.loc[df['removal_reason'] == 'Listener Cancel', 'removal_reason'] = '중요도 설정'"
   ]
  },
  {
   "cell_type": "code",
   "execution_count": null,
   "id": "b9033a1d-08b6-4db0-99ad-976c7484ea57",
   "metadata": {},
   "outputs": [],
   "source": [
    "package_removal_counts = df.groupby(['package_name', 'removal_reason']).size().unstack(fill_value=0)\n",
    "package_row_counts = df['package_name'].value_counts()\n",
    "package_removal_counts['total_count'] = package_row_counts\n",
    "package_removal_counts"
   ]
  },
  {
   "cell_type": "code",
   "execution_count": null,
   "id": "7741dead-5327-457b-888d-5005fa761452",
   "metadata": {},
   "outputs": [],
   "source": []
  },
  {
   "cell_type": "code",
   "execution_count": null,
   "id": "88cf6635-7998-4803-ab1a-5b956d97be7b",
   "metadata": {},
   "outputs": [],
   "source": []
  },
  {
   "cell_type": "code",
   "execution_count": null,
   "id": "03076912-b1f5-43b1-80c0-ce976b8c99b3",
   "metadata": {},
   "outputs": [],
   "source": []
  },
  {
   "cell_type": "code",
   "execution_count": null,
   "id": "37cdca78-af60-4912-86ac-83ef993635e2",
   "metadata": {},
   "outputs": [],
   "source": []
  },
  {
   "cell_type": "code",
   "execution_count": null,
   "id": "0b0c16e4-66b6-4ee1-aab9-2ebc2b2e7cca",
   "metadata": {},
   "outputs": [],
   "source": []
  },
  {
   "cell_type": "code",
   "execution_count": null,
   "id": "d6d0029e-abec-4d03-bea6-dc7796c30ddf",
   "metadata": {},
   "outputs": [],
   "source": []
  }
 ],
 "metadata": {
  "kernelspec": {
   "display_name": "Python 3 (ipykernel)",
   "language": "python",
   "name": "python3"
  },
  "language_info": {
   "codemirror_mode": {
    "name": "ipython",
    "version": 3
   },
   "file_extension": ".py",
   "mimetype": "text/x-python",
   "name": "python",
   "nbconvert_exporter": "python",
   "pygments_lexer": "ipython3",
   "version": "3.11.5"
  }
 },
 "nbformat": 4,
 "nbformat_minor": 5
}
