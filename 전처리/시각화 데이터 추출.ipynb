{
 "cells": [
  {
   "cell_type": "markdown",
   "id": "ae04aabc-73bf-42e9-8ac7-53a08dfdedbe",
   "metadata": {},
   "source": [
    "## fig_seen"
   ]
  },
  {
   "cell_type": "code",
   "execution_count": null,
   "id": "610421a7-abcc-4571-8c09-bd59a886ed2d",
   "metadata": {},
   "outputs": [],
   "source": [
    "df= pd.read_csv(\"combined_data.csv\")"
   ]
  },
  {
   "cell_type": "code",
   "execution_count": null,
   "id": "b9a033a2-248d-4475-b1bb-e6b51ffd06ef",
   "metadata": {},
   "outputs": [],
   "source": [
    "df = df[df['eventType'] == 'NOTIFICATION_SEEN']"
   ]
  },
  {
   "cell_type": "code",
   "execution_count": null,
   "id": "d4b2e7da-455e-41f6-b16b-b6255dbd8ec0",
   "metadata": {},
   "outputs": [],
   "source": [
    "df['timestamp'] = pd.to_datetime(df['timestamp'])\n",
    "\n",
    "session_1_counts = df[df['session'] == 1].groupby(['user', 'timestamp']).size().groupby('user').size()\n",
    "session_2_counts = df[df['session'] == 2].groupby(['user', 'timestamp']).size().groupby('user').size()\n",
    "\n",
    "result = pd.DataFrame({\n",
    "    'session_1_count': session_1_counts,\n",
    "    'session_2_count': session_2_counts\n",
    "}).fillna(0)\n",
    "\n",
    "print(result)"
   ]
  },
  {
   "cell_type": "code",
   "execution_count": null,
   "id": "0b663270-6f6c-42db-aba6-068d3e19f9c3",
   "metadata": {},
   "outputs": [],
   "source": [
    "avg_screen_time = result['session_2_count'].mean()\n",
    "std_screen_time = result['session_2_count'].std()\n",
    "\n",
    "print(avg_screen_time, std_screen_time)"
   ]
  },
  {
   "cell_type": "code",
   "execution_count": null,
   "id": "5d114937-99f4-4cdc-b371-392477e0f318",
   "metadata": {},
   "outputs": [],
   "source": [
    "result['difference'] = result['session_1_count'] - result['session_2_count']\n",
    "\n",
    "average_decrease = np.mean(result['difference'])\n",
    "std_deviation = np.std(result['difference'])\n",
    "\n",
    "average_decrease, std_deviation"
   ]
  },
  {
   "cell_type": "code",
   "execution_count": null,
   "id": "fff63486-a1fd-43d0-9204-2a12a550dff2",
   "metadata": {},
   "outputs": [],
   "source": [
    "result.to_csv('fig_seen.csv')"
   ]
  },
  {
   "cell_type": "markdown",
   "id": "715ecf53-cc22-46b3-87a8-f59994af71b1",
   "metadata": {},
   "source": [
    "## fig_noti"
   ]
  },
  {
   "cell_type": "code",
   "execution_count": null,
   "id": "0e9f6c78-6e88-4326-8afa-0cad7eb44fb8",
   "metadata": {},
   "outputs": [],
   "source": [
    "df= pd.read_csv(\"combined_data.csv\")"
   ]
  },
  {
   "cell_type": "code",
   "execution_count": null,
   "id": "d64ec30c-0cdb-4d17-892b-5c5232f5e17d",
   "metadata": {},
   "outputs": [],
   "source": [
    "df[\"user_x\"] = df[\"user_x\"].apply(lambda x: f\"u{int(x[1:]):02d}\" if x.startswith(\"u\") else x)"
   ]
  },
  {
   "cell_type": "code",
   "execution_count": null,
   "id": "60b34ca1-3132-4394-a32c-11dd8b67c43e",
   "metadata": {},
   "outputs": [],
   "source": [
    "# Calculate removal_reason percentages for each package_name\n",
    "removal_reason_counts = df.groupby([\"package_name\", \"removal_reason\"]).size().unstack(fill_value=0)\n",
    "removal_reason_percentages = (removal_reason_counts.T / removal_reason_counts.sum(axis=1)).T * 100\n",
    "\n",
    "# Reset index for better visualization\n",
    "removal_reason_percentages.reset_index(inplace=True)\n",
    "removal_reason_percentages"
   ]
  },
  {
   "cell_type": "code",
   "execution_count": null,
   "id": "2bc8733c-c19b-4d65-9e3c-31cc44075db6",
   "metadata": {},
   "outputs": [],
   "source": [
    "df  = df[df['removal_reason'] != 'Listener Cancel']\n",
    "df.info()"
   ]
  },
  {
   "cell_type": "code",
   "execution_count": null,
   "id": "8e66dd2e-2d11-49d1-a44e-d107fcc68edb",
   "metadata": {},
   "outputs": [],
   "source": [
    "top_10_packages = df[\"package_name\"].value_counts().head(10)\n",
    "\n",
    "top_10_packages_df = top_10_packages.reset_index()\n",
    "top_10_packages_df.columns = [\"package_name\", \"count\"]\n",
    "top_10_packages_df"
   ]
  },
  {
   "cell_type": "code",
   "execution_count": null,
   "id": "abf6e910-4b45-4760-a4bc-622ee964d8cc",
   "metadata": {},
   "outputs": [],
   "source": [
    "df = df[~df['title'].str.contains(\"녹음 중 알림\", na=False)]\n",
    "df = df[~df['title'].str.contains(\"걸음\", na=False)]\n",
    "df = df[~df['title'].str.contains(\"다른 앱 위에 표시됨\", na=False)]\n",
    "df = df[~df['title'].str.contains(\"통화\", na=False)]"
   ]
  },
  {
   "cell_type": "code",
   "execution_count": null,
   "id": "2b70cf5d-9938-4ead-b7b3-c158ab9b9912",
   "metadata": {},
   "outputs": [],
   "source": [
    "df_session_1 = df[df[\"session_x\"] == 1]\n",
    "df_session_2 = df[df[\"session_x\"] == 2]\n",
    "\n",
    "session_1_count = df_session_1.groupby(\"user_x\").size()\n",
    "session_2_count = df_session_2.groupby(\"user_x\").size()\n",
    "\n",
    "result = pd.DataFrame({\n",
    "    \"session_1_count\": session_1_count,\n",
    "    \"session_2_count\": session_2_count\n",
    "}).fillna(0)\n",
    "\n",
    "result"
   ]
  },
  {
   "cell_type": "code",
   "execution_count": null,
   "id": "52ac003a-7a4d-4917-8aec-74d88360b09b",
   "metadata": {},
   "outputs": [],
   "source": [
    "result.to_csv('fig_noti.csv')"
   ]
  },
  {
   "cell_type": "markdown",
   "id": "98d5fb7c-e1d1-47b9-bf82-7510593bf49e",
   "metadata": {},
   "source": [
    "## fig_stack"
   ]
  },
  {
   "cell_type": "code",
   "execution_count": null,
   "id": "50a0f02a-34f0-4725-a9df-9a956c6f72a6",
   "metadata": {},
   "outputs": [],
   "source": [
    "df= pd.read_csv(\"combined_data.csv\")"
   ]
  },
  {
   "cell_type": "code",
   "execution_count": null,
   "id": "f074e189-212d-4343-8469-23aa38f02ca0",
   "metadata": {},
   "outputs": [],
   "source": [
    "df = df[df['eventType'] == 'NOTIFICATION_SEEN']"
   ]
  },
  {
   "cell_type": "code",
   "execution_count": null,
   "id": "27c659f8-e79a-4878-9877-8105698fd44e",
   "metadata": {},
   "outputs": [],
   "source": [
    "df = df.drop_duplicates(subset=['package_name', 'session', 'timestamp'])"
   ]
  },
  {
   "cell_type": "code",
   "execution_count": null,
   "id": "36012194-05e6-4960-8d58-b94aa2308d07",
   "metadata": {},
   "outputs": [],
   "source": [
    "# 'timestamp' 컬럼을 datetime 형식으로 변환\n",
    "df['timestamp'] = pd.to_datetime(df['timestamp'])\n",
    "\n",
    "# 각 사용자(user)별, timestamp별 이벤트 개수를 계산하여 새로운 컬럼 'event_count' 추가\n",
    "df['event_count'] = (\n",
    "    df.groupby(['user', 'timestamp'])\n",
    "    .transform('size')  # 동일한 timestamp에서 발생한 이벤트 개수를 계산\n",
    ")\n",
    "df"
   ]
  },
  {
   "cell_type": "code",
   "execution_count": null,
   "id": "20e9a008-6f47-4dba-b4eb-fd329bcea72e",
   "metadata": {},
   "outputs": [],
   "source": [
    "a = ['package_name','eventType','timestamp', 'user', 'session' ,'event_count']\n",
    "\n",
    "seen = df[a]"
   ]
  },
  {
   "cell_type": "code",
   "execution_count": null,
   "id": "041313c7-2170-4eef-9b90-b47e03153b3f",
   "metadata": {},
   "outputs": [],
   "source": [
    "# 각 사용자(user)별, timestamp별 중복된 행을 제거하고 첫 번째 행만 남김\n",
    "df = df.drop_duplicates(subset=['user', 'timestamp'])"
   ]
  },
  {
   "cell_type": "code",
   "execution_count": null,
   "id": "b1c5bf19-f832-4187-929b-375daa9f4e75",
   "metadata": {},
   "outputs": [],
   "source": [
    "a = ['package_name','eventType','timestamp', 'user', 'session' ,'event_count']\n",
    "seen = df[a]"
   ]
  },
  {
   "cell_type": "code",
   "execution_count": null,
   "id": "9dc3c173-1bd7-4d4f-8722-888689c58e66",
   "metadata": {},
   "outputs": [],
   "source": [
    "seen = seen[seen['package_name'] != 'com.android.systemui']\n",
    "seen = seen[seen['package_name'] != 'com.android.phone']"
   ]
  },
  {
   "cell_type": "code",
   "execution_count": null,
   "id": "e822c305-f34e-4bba-a101-f9b2a66cae9c",
   "metadata": {},
   "outputs": [],
   "source": [
    "df = seen"
   ]
  },
  {
   "cell_type": "code",
   "execution_count": null,
   "id": "7012590f-4485-4950-81e6-88db6a5fbce9",
   "metadata": {},
   "outputs": [],
   "source": [
    "# user, date, session별로 그룹화하여 event_count의 평균 계산\n",
    "average_event_count = (\n",
    "    df.groupby(['user', 'session'])['event_count']\n",
    "    .mean()\n",
    "    .reset_index()\n",
    ")\n",
    "\n",
    "# 컬럼 이름 변경\n",
    "average_event_count.rename(columns={'event_count': 'average_event_count'}, inplace=True)\n",
    "# 결과 출력\n",
    "average_event_count.info()"
   ]
  },
  {
   "cell_type": "code",
   "execution_count": null,
   "id": "dfc7b1ae-47be-4558-9022-80dca2ac35c8",
   "metadata": {},
   "outputs": [],
   "source": [
    "average_event_count.to_csv('fig_stack.csv')"
   ]
  },
  {
   "cell_type": "markdown",
   "id": "6f7ad297-35b4-4758-99d5-f69b4eee978c",
   "metadata": {},
   "source": [
    "## fig_keyword"
   ]
  },
  {
   "cell_type": "code",
   "execution_count": null,
   "id": "8ed3c9d8-ddc2-47f1-b857-b6635322762e",
   "metadata": {},
   "outputs": [],
   "source": [
    "df= pd.read_csv(\"combined_data.csv\")"
   ]
  },
  {
   "cell_type": "code",
   "execution_count": null,
   "id": "97d72ec8-cef0-4d4d-ad3b-be83aa022b3c",
   "metadata": {},
   "outputs": [],
   "source": [
    "keyword = df[df['itemType']== 'keyword']\n",
    "keyword.info()"
   ]
  },
  {
   "cell_type": "code",
   "execution_count": null,
   "id": "be094f42-0363-4ad3-b1ad-47007281dd7b",
   "metadata": {},
   "outputs": [],
   "source": [
    "keyword.to_csv('fig_keyword.csv')"
   ]
  },
  {
   "cell_type": "markdown",
   "id": "b194a6a5-51a2-49b5-8d21-cee60399ba9a",
   "metadata": {},
   "source": [
    "## fig_delete"
   ]
  },
  {
   "cell_type": "code",
   "execution_count": null,
   "id": "d2a8069b-e220-4fb1-af87-c5fe65f61042",
   "metadata": {},
   "outputs": [],
   "source": [
    "df= pd.read_csv(\"combined_data.csv\")"
   ]
  },
  {
   "cell_type": "code",
   "execution_count": null,
   "id": "0cc19107-a569-4c77-aa28-969b750701a2",
   "metadata": {},
   "outputs": [],
   "source": [
    "df = df[df['contains_advertisement'] == True]"
   ]
  },
  {
   "cell_type": "code",
   "execution_count": null,
   "id": "4ae9f597-b9d9-4605-bfd6-735cac42946d",
   "metadata": {},
   "outputs": [],
   "source": [
    "df = df[df['session_x'] == 1]"
   ]
  },
  {
   "cell_type": "code",
   "execution_count": null,
   "id": "efdb41b9-ab00-40b8-b7ac-f073e662b516",
   "metadata": {},
   "outputs": [],
   "source": [
    "df = df[df['removal_reason'] == '클릭']"
   ]
  },
  {
   "cell_type": "code",
   "execution_count": null,
   "id": "d81f614f-e6d2-4111-89f1-bbbe1c66a1e8",
   "metadata": {},
   "outputs": [],
   "source": [
    "df = df[df['text'] != 'test']"
   ]
  },
  {
   "cell_type": "code",
   "execution_count": null,
   "id": "ef2c3c17-d04c-49e3-bace-4fa15852b348",
   "metadata": {},
   "outputs": [],
   "source": [
    "df1 = df[df['session_x']==1]\n",
    "df2 = df[df['session_x']==2]"
   ]
  },
  {
   "cell_type": "code",
   "execution_count": null,
   "id": "6793e9be-ce21-46b4-86dc-5b2bd7d493f6",
   "metadata": {},
   "outputs": [],
   "source": [
    "session1 = df[df['session_x'] == 1].groupby('user_x')['package_name'].apply(set)\n",
    "session2 = df[df['session_x'] == 2].groupby('user_x')['package_name'].apply(set)\n",
    "\n",
    "unique_packages = session1.subtract(session2, fill_value=set())\n",
    "\n",
    "unique_packages"
   ]
  },
  {
   "cell_type": "code",
   "execution_count": null,
   "id": "28d943e6-113f-444e-a53c-938508d0bab2",
   "metadata": {},
   "outputs": [],
   "source": [
    "counts1 = df1.groupby('user_x')['package_name'].nunique()\n",
    "counts2 = df2.groupby('user_x')['package_name'].nunique()"
   ]
  },
  {
   "cell_type": "code",
   "execution_count": null,
   "id": "34de29fc-999b-47a4-be39-26f96a3bf48f",
   "metadata": {},
   "outputs": [],
   "source": [
    "min_count = package_name_counts.min()\n",
    "max_count = package_name_counts.max()\n",
    "mean_count = package_name_counts.mean()\n",
    "std_count = package_name_counts.std()\n",
    "\n",
    "# Display the results\n",
    "print(f\"Minimum: {min_count}\")\n",
    "print(f\"Maximum: {max_count}\")\n",
    "print(f\"Average (Mean): {mean_count}\")\n",
    "print(f\"Standard Deviation: {std_count}\")"
   ]
  },
  {
   "cell_type": "code",
   "execution_count": null,
   "id": "9a80e9df-d82e-45e4-80a6-f81ed5ed2441",
   "metadata": {},
   "outputs": [],
   "source": [
    "df3 = df[df['removal_reason']== '중요도 설정']"
   ]
  },
  {
   "cell_type": "code",
   "execution_count": null,
   "id": "a7e4792e-f2dc-4e60-a113-d3e0548033a6",
   "metadata": {},
   "outputs": [],
   "source": [
    "df4 = df[df['session_x']==1]\n",
    "df5 = df[df['session_x']==2]"
   ]
  },
  {
   "cell_type": "code",
   "execution_count": null,
   "id": "1f303a21-21a4-40cd-a8f1-403dea3f1fae",
   "metadata": {},
   "outputs": [],
   "source": [
    "user_row_counts = df5['user_x'].value_counts().reset_index()\n",
    "user_row_counts"
   ]
  },
  {
   "cell_type": "code",
   "execution_count": null,
   "id": "3585cca6-6597-4fab-8b4f-82a0e66939c9",
   "metadata": {},
   "outputs": [],
   "source": [
    "min_count = user_row_counts['count'].min()\n",
    "max_count = user_row_counts['count'].max()\n",
    "mean_count = user_row_counts['count'].mean()\n",
    "std_count = user_row_counts['count'].std()\n",
    "\n",
    "# Display the results\n",
    "min_count, max_count, mean_count, std_count"
   ]
  },
  {
   "cell_type": "code",
   "execution_count": null,
   "id": "169f9756-125b-4f22-83b1-7f6aa96f8c12",
   "metadata": {},
   "outputs": [],
   "source": [
    "package_removal_counts = df.groupby(\n",
    "    ['user_x', 'session_x', 'package_name', 'removal_reason']\n",
    ").size().unstack(fill_value=0)\n",
    "\n",
    "package_removal_counts['total_count'] = package_removal_counts.sum(axis=1)\n",
    "\n",
    "package_removal_counts"
   ]
  },
  {
   "cell_type": "code",
   "execution_count": null,
   "id": "b472026a-b42e-4a75-a389-1a9e151624e5",
   "metadata": {},
   "outputs": [],
   "source": [
    "importance = pd.read_excel(\"importance_mining.xlsx\")\n",
    "importance.info()"
   ]
  },
  {
   "cell_type": "code",
   "execution_count": null,
   "id": "adc5bf49-03a9-42dc-a48d-d3fcb99eb925",
   "metadata": {},
   "outputs": [],
   "source": [
    "importance = importance.rename(columns={'user': 'user_x', 'packageName': 'package_name'})\n",
    "\n",
    "package_removal_counts = package_removal_counts.reset_index()\n",
    "\n",
    "package_removal_counts = package_removal_counts.merge(\n",
    "    importance[['user_x', 'package_name', 'importanceLevel', 'itemName']],  \n",
    "    on=['user_x', 'package_name'],  \n",
    "    how='left'  \n",
    ")\n",
    "\n",
    "package_removal_counts = package_removal_counts.rename(columns={'importanceLevel': 'importance'})\n",
    "\n",
    "package_removal_counts"
   ]
  },
  {
   "cell_type": "code",
   "execution_count": null,
   "id": "7af0c610-be3c-4663-a534-b53d80fa73f9",
   "metadata": {},
   "outputs": [],
   "source": [
    "package_removal_counts.to_excel('removal_counts.xlsx')"
   ]
  },
  {
   "cell_type": "code",
   "execution_count": null,
   "id": "1f1623ab-f7bb-4c49-a8d3-8e32c952b5e0",
   "metadata": {},
   "outputs": [],
   "source": [
    "df = pd.read_excel('removal_counts.xlsx')"
   ]
  },
  {
   "cell_type": "code",
   "execution_count": null,
   "id": "949eba4a-568e-4c12-81fe-16e63be51843",
   "metadata": {},
   "outputs": [],
   "source": [
    "df = df[df['session_x']==1.0]"
   ]
  },
  {
   "cell_type": "code",
   "execution_count": null,
   "id": "12ee6a82-c1c1-4bca-816e-af2a56213475",
   "metadata": {},
   "outputs": [],
   "source": [
    "df['기타_ratio'] = df['기타'] / df['total_count']\n",
    "df['제거_ratio'] = df['제거'] / df['total_count']\n",
    "df['클릭_ratio'] = df['클릭'] / df['total_count']\n",
    "\n",
    "df"
   ]
  },
  {
   "cell_type": "code",
   "execution_count": null,
   "id": "0c41dc0c-a089-4799-9b64-a83071a6b480",
   "metadata": {},
   "outputs": [],
   "source": [
    "grouped_df = df.groupby(['user_x', 'importance'])[['기타_ratio', '제거_ratio', '클릭_ratio']].mean().reset_index()"
   ]
  },
  {
   "cell_type": "code",
   "execution_count": null,
   "id": "f0b53c90-11d5-4dc0-b3e3-6d4038186f18",
   "metadata": {},
   "outputs": [],
   "source": [
    "grouped_df.to_csv('fig_delete.csv')"
   ]
  },
  {
   "cell_type": "markdown",
   "id": "8c5f67e3-b34e-4f53-9926-c9e549fc059e",
   "metadata": {},
   "source": [
    "## 카테고리 추출\n",
    "- 카테고리는 직접 구글플레이스토어에서 검색후 매칭시켜서 기입"
   ]
  },
  {
   "cell_type": "code",
   "execution_count": null,
   "id": "bf350b31-3000-451e-a34b-ac04d56b8668",
   "metadata": {},
   "outputs": [],
   "source": [
    "df = pd.read_excel('category.xlsx')"
   ]
  },
  {
   "cell_type": "code",
   "execution_count": null,
   "id": "0af87ed8-662f-44b6-bf82-aa7e4782ef9d",
   "metadata": {},
   "outputs": [],
   "source": [
    "df1 = df\n",
    "df2 = pd.read_excel('removal_counts.xlsx')"
   ]
  },
  {
   "cell_type": "code",
   "execution_count": null,
   "id": "87f6dabd-66be-462d-88e0-c7b6604ead46",
   "metadata": {},
   "outputs": [],
   "source": [
    "category_counts = df['카테고리'].value_counts()"
   ]
  },
  {
   "cell_type": "code",
   "execution_count": null,
   "id": "6b64bcde-36df-45f0-9041-61360e628f8a",
   "metadata": {},
   "outputs": [],
   "source": [
    "category_counts_df = category_counts.reset_index()\n",
    "category_counts_df.columns = ['카테고리', 'Count']"
   ]
  },
  {
   "cell_type": "code",
   "execution_count": null,
   "id": "b32f903a-1b83-4a89-8396-9aab95ef1b5c",
   "metadata": {},
   "outputs": [],
   "source": [
    "app_items = df[df['카테고리'] == '기본 앱']\n",
    "\n",
    "item_names = app_items['packageName'].unique()\n",
    "item_names"
   ]
  },
  {
   "cell_type": "code",
   "execution_count": null,
   "id": "95ecc835-e1d0-4ae6-9809-bee9ee927f3a",
   "metadata": {},
   "outputs": [],
   "source": [
    "df2 = df2[df2['session_x'] == 1.0]"
   ]
  },
  {
   "cell_type": "code",
   "execution_count": null,
   "id": "a4b0a605-5aa0-4aa2-bfca-df8e8b996e4b",
   "metadata": {},
   "outputs": [],
   "source": [
    "df1_unique = df1[['packageName', '카테고리']].drop_duplicates()\n",
    "df2 = df2.merge(df1_unique, how='left', left_on='package_name', right_on='packageName')\n",
    "df2 = df2.drop(columns=['packageName'])\n",
    "df2 = df2[df2['importance'].notnull()]"
   ]
  },
  {
   "cell_type": "code",
   "execution_count": null,
   "id": "3f8d33c8-3d93-42aa-a80a-4d060f6f1d08",
   "metadata": {},
   "outputs": [],
   "source": [
    "category_importance_ratio = df2.groupby('카테고리')['importance'].value_counts(normalize=True).unstack()\n",
    "category_importance_ratio = category_importance_ratio.fillna(0)"
   ]
  },
  {
   "cell_type": "code",
   "execution_count": null,
   "id": "a38e001c-3d33-4763-9fba-b08cad18d975",
   "metadata": {},
   "outputs": [],
   "source": [
    "reordered_category_importance_ratio = category_importance_ratio[['high', 'medium', 'low']]"
   ]
  },
  {
   "cell_type": "code",
   "execution_count": null,
   "id": "be326934-0647-4e5f-97ce-3efb2975ca1c",
   "metadata": {},
   "outputs": [],
   "source": [
    "category_counts = df2['카테고리'].value_counts()\n",
    "category_counts = category_counts.rename_axis('카테고리').reset_index(name='total')\n",
    "final_category_importance_ratio = reordered_category_importance_ratio.merge(\n",
    "    category_counts, how='left', on='카테고리'\n",
    ")"
   ]
  },
  {
   "cell_type": "code",
   "execution_count": null,
   "id": "64b77fd9-fd19-4ab7-a754-99f41b1cd087",
   "metadata": {},
   "outputs": [],
   "source": [
    "category_group = df2.groupby('카테고리')[['기타', '제거', '클릭', 'total_count']].sum()\n",
    "\n",
    "category_group['기타 비율'] = category_group['기타'] / category_group['total_count']\n",
    "category_group['제거 비율'] = category_group['제거'] / category_group['total_count']\n",
    "category_group['클릭 비율'] = category_group['클릭'] / category_group['total_count']\n",
    "\n",
    "category_ratios = category_group[['기타 비율', '제거 비율', '클릭 비율']]\n",
    "category_ratios['total_count'] = category_group['total_count']\n",
    "\n",
    "category_ratios"
   ]
  },
  {
   "cell_type": "code",
   "execution_count": null,
   "id": "05b7d211-f27e-4466-b31d-91d75e749b01",
   "metadata": {},
   "outputs": [],
   "source": [
    "df = pd.read_excel('category.xlsx')"
   ]
  },
  {
   "cell_type": "code",
   "execution_count": null,
   "id": "56b4fadf-67f6-4af4-9e12-f4775260f684",
   "metadata": {},
   "outputs": [],
   "source": [
    "desired_categories = ['도구', '커뮤니케이션', '금융', '생산성', '소셜', '라이프스타일', '쇼핑', '식음료', '교육', '지도/네비게이션']\n",
    "\n",
    "# Count occurrences of each category in the dataset\n",
    "category_counts = df['카테고리'].value_counts()\n",
    "\n",
    "# Filter only desired categories and calculate the percentage\n",
    "desired_counts = category_counts[desired_categories]\n",
    "desired_percentage = (desired_counts.sum() / len(df)) * 100\n",
    "\n",
    "# Display results\n",
    "category_percentage_df = pd.DataFrame({\n",
    "    'Category': desired_categories,\n",
    "    'Count': desired_counts,\n",
    "    'Percentage': (desired_counts / len(df)) * 100\n",
    "}).fillna(0)"
   ]
  },
  {
   "cell_type": "code",
   "execution_count": null,
   "id": "2ac30668-f779-4bb9-92d8-a6371529cfda",
   "metadata": {},
   "outputs": [],
   "source": [
    "category_percentage_df['Percentage'].sum()"
   ]
  },
  {
   "cell_type": "code",
   "execution_count": null,
   "id": "29c0d1d9-7ba1-4eee-8abc-15632f061bf1",
   "metadata": {},
   "outputs": [],
   "source": [
    "desired_categories = ['기타','기본 앱']\n",
    "\n",
    "# Count occurrences of each category in the dataset\n",
    "category_counts = df['카테고리'].value_counts()\n",
    "\n",
    "# Filter only desired categories and calculate the percentage\n",
    "desired_counts = category_counts[desired_categories]\n",
    "desired_percentage = (desired_counts.sum() / len(df)) * 100\n",
    "\n",
    "# Display results\n",
    "category_percentage_df = pd.DataFrame({\n",
    "    'Category': desired_categories,\n",
    "    'Count': desired_counts,\n",
    "    'Percentage': (desired_counts / len(df)) * 100\n",
    "}).fillna(0)"
   ]
  },
  {
   "cell_type": "code",
   "execution_count": null,
   "id": "2d23e689-e46f-4643-b0a4-853af9e4c0b2",
   "metadata": {},
   "outputs": [],
   "source": [
    "category_percentage_df['Percentage'].sum()"
   ]
  },
  {
   "cell_type": "code",
   "execution_count": null,
   "id": "cd06ca2c-d5bc-47ad-a742-5beb17975dc8",
   "metadata": {},
   "outputs": [],
   "source": [
    "selected_package_names = [\n",
    "    \"android\", \"com.samsung.android.messaging\", \"com.kakao.talk\", \"com.sec.android.app.samsungapps\",\n",
    "    \"com.sec.android.app.clockpackage\", \"com.google.android.gm\", \"com.samsung.android.app.smartcapture\",\n",
    "    \"com.samsung.android.forest\", \"com.android.systemui\", \"com.android.vending\",\n",
    "    \"com.google.android.youtube\", \"com.sec.android.daemonapp\", \"com.google.android.gms\",\n",
    "    \"com.everytime.v2\", \"viva.republica.toss\"\n",
    "]\n",
    "filtered_df = df[df[\"packageName\"].isin(selected_package_names)]\n",
    "\n",
    "# Get the distribution of importanceLevel for these rows\n",
    "importance_level_distribution = filtered_df[\"importanceLevel\"].value_counts()\n",
    "\n",
    "# Displaying the result\n",
    "importance_level_distribution"
   ]
  },
  {
   "cell_type": "code",
   "execution_count": null,
   "id": "0f41b4ba-865b-42ff-b4e0-f41dd3acc6fd",
   "metadata": {},
   "outputs": [],
   "source": [
    "df.to_csv('fig_category.csv')"
   ]
  },
  {
   "cell_type": "markdown",
   "id": "0ec1c522-15d8-48e4-979f-c77233c829b9",
   "metadata": {},
   "source": [
    "## fig_press"
   ]
  },
  {
   "cell_type": "code",
   "execution_count": null,
   "id": "9f1e4e0a-4a25-4170-9db7-abe8419b12ff",
   "metadata": {},
   "outputs": [],
   "source": [
    "df= pd.read_csv(\"combined_data.csv\")"
   ]
  },
  {
   "cell_type": "code",
   "execution_count": null,
   "id": "ef42dd1a-ac5e-4ba2-86c7-4feaacd1024a",
   "metadata": {},
   "outputs": [],
   "source": [
    "df_log = df[df['action'].notna()]\n",
    "df_log.info()"
   ]
  },
  {
   "cell_type": "code",
   "execution_count": null,
   "id": "9311e940-58f3-40bd-9763-948658f42030",
   "metadata": {},
   "outputs": [],
   "source": [
    "df_pressed = df_log[df_log['pendingNotificationCount'].notna()]\n",
    "df_pressed = df_pressed.dropna(axis=1, how='all')\n",
    "df_pressed = df_pressed.sort_values(by='user', ascending=True)\n",
    "\n",
    "df_pressed = df_pressed.sort_values(by='timestamp', ascending=True)\n",
    "df_pressed"
   ]
  },
  {
   "cell_type": "code",
   "execution_count": null,
   "id": "04388df5-e84d-4224-b791-8d8b2de8a908",
   "metadata": {},
   "outputs": [],
   "source": [
    "df_pressed.to_csv('fig_press.csv')"
   ]
  }
 ],
 "metadata": {
  "kernelspec": {
   "display_name": "Python 3 (ipykernel)",
   "language": "python",
   "name": "python3"
  },
  "language_info": {
   "codemirror_mode": {
    "name": "ipython",
    "version": 3
   },
   "file_extension": ".py",
   "mimetype": "text/x-python",
   "name": "python",
   "nbconvert_exporter": "python",
   "pygments_lexer": "ipython3",
   "version": "3.11.5"
  }
 },
 "nbformat": 4,
 "nbformat_minor": 5
}
