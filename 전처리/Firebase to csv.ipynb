{
 "cells": [
  {
   "cell_type": "code",
   "execution_count": 1,
   "id": "e2ea4d49-5693-4969-b89f-9c6ba563f974",
   "metadata": {},
   "outputs": [
    {
     "name": "stdout",
     "output_type": "stream",
     "text": [
      "Requirement already satisfied: firebase-admin in c:\\users\\khu\\anaconda3\\lib\\site-packages (6.3.0)\n",
      "Requirement already satisfied: cachecontrol>=0.12.6 in c:\\users\\khu\\anaconda3\\lib\\site-packages (from firebase-admin) (0.13.1)\n",
      "Requirement already satisfied: google-api-python-client>=1.7.8 in c:\\users\\khu\\anaconda3\\lib\\site-packages (from firebase-admin) (2.114.0)\n",
      "Requirement already satisfied: google-cloud-storage>=1.37.1 in c:\\users\\khu\\anaconda3\\lib\\site-packages (from firebase-admin) (2.14.0)\n",
      "Requirement already satisfied: pyjwt[crypto]>=2.5.0 in c:\\users\\khu\\anaconda3\\lib\\site-packages (from firebase-admin) (2.8.0)\n",
      "Requirement already satisfied: google-api-core[grpc]<3.0.0dev,>=1.22.1 in c:\\users\\khu\\anaconda3\\lib\\site-packages (from firebase-admin) (2.15.0)\n",
      "Requirement already satisfied: google-cloud-firestore>=2.9.1 in c:\\users\\khu\\anaconda3\\lib\\site-packages (from firebase-admin) (2.14.0)\n",
      "Requirement already satisfied: requests>=2.16.0 in c:\\users\\khu\\anaconda3\\lib\\site-packages (from cachecontrol>=0.12.6->firebase-admin) (2.31.0)\n",
      "Requirement already satisfied: msgpack>=0.5.2 in c:\\users\\khu\\anaconda3\\lib\\site-packages (from cachecontrol>=0.12.6->firebase-admin) (1.0.3)\n",
      "Requirement already satisfied: googleapis-common-protos<2.0.dev0,>=1.56.2 in c:\\users\\khu\\anaconda3\\lib\\site-packages (from google-api-core[grpc]<3.0.0dev,>=1.22.1->firebase-admin) (1.62.0)\n",
      "Requirement already satisfied: protobuf!=3.20.0,!=3.20.1,!=4.21.0,!=4.21.1,!=4.21.2,!=4.21.3,!=4.21.4,!=4.21.5,<5.0.0.dev0,>=3.19.5 in c:\\users\\khu\\anaconda3\\lib\\site-packages (from google-api-core[grpc]<3.0.0dev,>=1.22.1->firebase-admin) (4.23.4)\n",
      "Requirement already satisfied: google-auth<3.0.dev0,>=2.14.1 in c:\\users\\khu\\anaconda3\\lib\\site-packages (from google-api-core[grpc]<3.0.0dev,>=1.22.1->firebase-admin) (2.25.1)\n",
      "Requirement already satisfied: grpcio<2.0dev,>=1.33.2 in c:\\users\\khu\\anaconda3\\lib\\site-packages (from google-api-core[grpc]<3.0.0dev,>=1.22.1->firebase-admin) (1.60.0)\n",
      "Requirement already satisfied: grpcio-status<2.0.dev0,>=1.33.2 in c:\\users\\khu\\anaconda3\\lib\\site-packages (from google-api-core[grpc]<3.0.0dev,>=1.22.1->firebase-admin) (1.60.0)\n",
      "Requirement already satisfied: httplib2<1.dev0,>=0.15.0 in c:\\users\\khu\\anaconda3\\lib\\site-packages (from google-api-python-client>=1.7.8->firebase-admin) (0.22.0)\n",
      "Requirement already satisfied: google-auth-httplib2>=0.1.0 in c:\\users\\khu\\anaconda3\\lib\\site-packages (from google-api-python-client>=1.7.8->firebase-admin) (0.2.0)\n",
      "Requirement already satisfied: uritemplate<5,>=3.0.1 in c:\\users\\khu\\anaconda3\\lib\\site-packages (from google-api-python-client>=1.7.8->firebase-admin) (4.1.1)\n",
      "Requirement already satisfied: google-cloud-core<3.0.0dev,>=1.4.1 in c:\\users\\khu\\anaconda3\\lib\\site-packages (from google-cloud-firestore>=2.9.1->firebase-admin) (2.4.1)\n",
      "Requirement already satisfied: proto-plus<2.0.0dev,>=1.22.0 in c:\\users\\khu\\anaconda3\\lib\\site-packages (from google-cloud-firestore>=2.9.1->firebase-admin) (1.23.0)\n",
      "Requirement already satisfied: google-resumable-media>=2.6.0 in c:\\users\\khu\\anaconda3\\lib\\site-packages (from google-cloud-storage>=1.37.1->firebase-admin) (2.7.0)\n",
      "Requirement already satisfied: google-crc32c<2.0dev,>=1.0 in c:\\users\\khu\\anaconda3\\lib\\site-packages (from google-cloud-storage>=1.37.1->firebase-admin) (1.5.0)\n",
      "Requirement already satisfied: cryptography>=3.4.0 in c:\\users\\khu\\anaconda3\\lib\\site-packages (from pyjwt[crypto]>=2.5.0->firebase-admin) (41.0.3)\n",
      "Requirement already satisfied: cffi>=1.12 in c:\\users\\khu\\anaconda3\\lib\\site-packages (from cryptography>=3.4.0->pyjwt[crypto]>=2.5.0->firebase-admin) (1.15.1)\n",
      "Requirement already satisfied: cachetools<6.0,>=2.0.0 in c:\\users\\khu\\anaconda3\\lib\\site-packages (from google-auth<3.0.dev0,>=2.14.1->google-api-core[grpc]<3.0.0dev,>=1.22.1->firebase-admin) (5.3.2)\n",
      "Requirement already satisfied: pyasn1-modules>=0.2.1 in c:\\users\\khu\\anaconda3\\lib\\site-packages (from google-auth<3.0.dev0,>=2.14.1->google-api-core[grpc]<3.0.0dev,>=1.22.1->firebase-admin) (0.2.8)\n",
      "Requirement already satisfied: rsa<5,>=3.1.4 in c:\\users\\khu\\anaconda3\\lib\\site-packages (from google-auth<3.0.dev0,>=2.14.1->google-api-core[grpc]<3.0.0dev,>=1.22.1->firebase-admin) (4.9)\n",
      "Requirement already satisfied: pyparsing!=3.0.0,!=3.0.1,!=3.0.2,!=3.0.3,<4,>=2.4.2 in c:\\users\\khu\\anaconda3\\lib\\site-packages (from httplib2<1.dev0,>=0.15.0->google-api-python-client>=1.7.8->firebase-admin) (3.0.9)\n",
      "Requirement already satisfied: charset-normalizer<4,>=2 in c:\\users\\khu\\anaconda3\\lib\\site-packages (from requests>=2.16.0->cachecontrol>=0.12.6->firebase-admin) (2.0.4)\n",
      "Requirement already satisfied: idna<4,>=2.5 in c:\\users\\khu\\anaconda3\\lib\\site-packages (from requests>=2.16.0->cachecontrol>=0.12.6->firebase-admin) (3.4)\n",
      "Requirement already satisfied: urllib3<3,>=1.21.1 in c:\\users\\khu\\anaconda3\\lib\\site-packages (from requests>=2.16.0->cachecontrol>=0.12.6->firebase-admin) (1.26.16)\n",
      "Requirement already satisfied: certifi>=2017.4.17 in c:\\users\\khu\\anaconda3\\lib\\site-packages (from requests>=2.16.0->cachecontrol>=0.12.6->firebase-admin) (2023.7.22)\n",
      "Requirement already satisfied: pycparser in c:\\users\\khu\\anaconda3\\lib\\site-packages (from cffi>=1.12->cryptography>=3.4.0->pyjwt[crypto]>=2.5.0->firebase-admin) (2.21)\n",
      "Requirement already satisfied: pyasn1<0.5.0,>=0.4.6 in c:\\users\\khu\\anaconda3\\lib\\site-packages (from pyasn1-modules>=0.2.1->google-auth<3.0.dev0,>=2.14.1->google-api-core[grpc]<3.0.0dev,>=1.22.1->firebase-admin) (0.4.8)\n"
     ]
    }
   ],
   "source": [
    "!pip install firebase-admin"
   ]
  },
  {
   "cell_type": "code",
   "execution_count": null,
   "id": "f49666d2-1d73-4220-a251-f601f3e38cb5",
   "metadata": {},
   "outputs": [],
   "source": [
    "import firebase_admin\n",
    "from firebase_admin import credentials\n",
    "from firebase_admin import db\n",
    "import json\n",
    "\n",
    "# 서비스 계정 키 파일 경로 설정\n",
    "cred = credentials.Certificate(\"개인 키.json\")\n",
    "\n",
    "# Firebase Admin SDK 초기화\n",
    "firebase_admin.initialize_app(cred, {\n",
    "    'databaseURL': '개인 sdk url 입력'\n",
    "})"
   ]
  },
  {
   "cell_type": "code",
   "execution_count": null,
   "id": "0dc7b984-ddb1-433b-828b-85f49ac80a14",
   "metadata": {},
   "outputs": [],
   "source": [
    "# 데이터베이스 루트 참조\n",
    "ref = db.reference('/')\n",
    "data = ref.get()\n",
    "\n",
    "# 로컬 파일로 저장\n",
    "with open(\"final.json\", \"w\") as f:\n",
    "    json.dump(data, f, indent=4)"
   ]
  },
  {
   "cell_type": "code",
   "execution_count": null,
   "id": "5fcbf7a8-248d-4800-b9df-e842f644e11e",
   "metadata": {},
   "outputs": [],
   "source": [
    "import requests\n",
    "import pandas as pd\n",
    "import json"
   ]
  },
  {
   "cell_type": "code",
   "execution_count": null,
   "id": "ef6277cd-6623-4ac2-9341-48562f89a0e8",
   "metadata": {},
   "outputs": [],
   "source": [
    "# JSON 파일을 로드\n",
    "with open('final.json', 'r', encoding='utf-8') as file:\n",
    "    json_data = json.load(file)\n",
    "\n",
    "# 개인이 설정한 키 아래의 중첩된 데이터 추출\n",
    "events_data1 = json_data['usage_events']\n",
    "events_data2 = json_data['logs']\n",
    "events_data3 = json_data['notifications']\n",
    "events_data4 = json_data['notification_removals']\n",
    "\n",
    "\n",
    "# DataFrame을 생성\n",
    "df1 = pd.DataFrame.from_dict(events_data1, orient='index')\n",
    "df2 = pd.DataFrame.from_dict(events_data2, orient='index')\n",
    "df3 = pd.DataFrame.from_dict(events_data3, orient='index')\n",
    "df4 = pd.DataFrame.from_dict(events_data4, orient='index')\n",
    "\n",
    "df_events=pd.concat([df1,df2, df3, df4])\n",
    "\n",
    "# DataFrame을 CSV 파일로 저장\n",
    "df_events.to_csv('final.csv', index=False)"
   ]
  }
 ],
 "metadata": {
  "kernelspec": {
   "display_name": "Python 3 (ipykernel)",
   "language": "python",
   "name": "python3"
  },
  "language_info": {
   "codemirror_mode": {
    "name": "ipython",
    "version": 3
   },
   "file_extension": ".py",
   "mimetype": "text/x-python",
   "name": "python",
   "nbconvert_exporter": "python",
   "pygments_lexer": "ipython3",
   "version": "3.11.5"
  }
 },
 "nbformat": 4,
 "nbformat_minor": 5
}
